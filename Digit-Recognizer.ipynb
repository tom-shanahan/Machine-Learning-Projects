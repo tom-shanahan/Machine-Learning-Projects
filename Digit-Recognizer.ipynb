{
 "cells": [
  {
   "cell_type": "code",
   "execution_count": 16,
   "metadata": {
    "scrolled": true
   },
   "outputs": [
    {
     "name": "stdout",
     "output_type": "stream",
     "text": [
      "Populating the interactive namespace from numpy and matplotlib\n"
     ]
    },
    {
     "name": "stderr",
     "output_type": "stream",
     "text": [
      "C:\\Users\\tshan_19f6h3m\\Anaconda3\\lib\\site-packages\\IPython\\core\\magics\\pylab.py:160: UserWarning: pylab import has clobbered these variables: ['plot', 'random']\n",
      "`%matplotlib` prevents importing * from pylab and numpy\n",
      "  \"\\n`%matplotlib` prevents importing * from pylab and numpy\"\n"
     ]
    },
    {
     "data": {
      "text/html": [
       "<div>\n",
       "<style scoped>\n",
       "    .dataframe tbody tr th:only-of-type {\n",
       "        vertical-align: middle;\n",
       "    }\n",
       "\n",
       "    .dataframe tbody tr th {\n",
       "        vertical-align: top;\n",
       "    }\n",
       "\n",
       "    .dataframe thead th {\n",
       "        text-align: right;\n",
       "    }\n",
       "</style>\n",
       "<table border=\"1\" class=\"dataframe\">\n",
       "  <thead>\n",
       "    <tr style=\"text-align: right;\">\n",
       "      <th></th>\n",
       "      <th>label</th>\n",
       "      <th>pixel0</th>\n",
       "      <th>pixel1</th>\n",
       "      <th>pixel2</th>\n",
       "      <th>pixel3</th>\n",
       "      <th>pixel4</th>\n",
       "      <th>pixel5</th>\n",
       "      <th>pixel6</th>\n",
       "      <th>pixel7</th>\n",
       "      <th>pixel8</th>\n",
       "      <th>...</th>\n",
       "      <th>pixel774</th>\n",
       "      <th>pixel775</th>\n",
       "      <th>pixel776</th>\n",
       "      <th>pixel777</th>\n",
       "      <th>pixel778</th>\n",
       "      <th>pixel779</th>\n",
       "      <th>pixel780</th>\n",
       "      <th>pixel781</th>\n",
       "      <th>pixel782</th>\n",
       "      <th>pixel783</th>\n",
       "    </tr>\n",
       "  </thead>\n",
       "  <tbody>\n",
       "    <tr>\n",
       "      <th>0</th>\n",
       "      <td>1</td>\n",
       "      <td>0</td>\n",
       "      <td>0</td>\n",
       "      <td>0</td>\n",
       "      <td>0</td>\n",
       "      <td>0</td>\n",
       "      <td>0</td>\n",
       "      <td>0</td>\n",
       "      <td>0</td>\n",
       "      <td>0</td>\n",
       "      <td>...</td>\n",
       "      <td>0</td>\n",
       "      <td>0</td>\n",
       "      <td>0</td>\n",
       "      <td>0</td>\n",
       "      <td>0</td>\n",
       "      <td>0</td>\n",
       "      <td>0</td>\n",
       "      <td>0</td>\n",
       "      <td>0</td>\n",
       "      <td>0</td>\n",
       "    </tr>\n",
       "    <tr>\n",
       "      <th>1</th>\n",
       "      <td>0</td>\n",
       "      <td>0</td>\n",
       "      <td>0</td>\n",
       "      <td>0</td>\n",
       "      <td>0</td>\n",
       "      <td>0</td>\n",
       "      <td>0</td>\n",
       "      <td>0</td>\n",
       "      <td>0</td>\n",
       "      <td>0</td>\n",
       "      <td>...</td>\n",
       "      <td>0</td>\n",
       "      <td>0</td>\n",
       "      <td>0</td>\n",
       "      <td>0</td>\n",
       "      <td>0</td>\n",
       "      <td>0</td>\n",
       "      <td>0</td>\n",
       "      <td>0</td>\n",
       "      <td>0</td>\n",
       "      <td>0</td>\n",
       "    </tr>\n",
       "    <tr>\n",
       "      <th>2</th>\n",
       "      <td>1</td>\n",
       "      <td>0</td>\n",
       "      <td>0</td>\n",
       "      <td>0</td>\n",
       "      <td>0</td>\n",
       "      <td>0</td>\n",
       "      <td>0</td>\n",
       "      <td>0</td>\n",
       "      <td>0</td>\n",
       "      <td>0</td>\n",
       "      <td>...</td>\n",
       "      <td>0</td>\n",
       "      <td>0</td>\n",
       "      <td>0</td>\n",
       "      <td>0</td>\n",
       "      <td>0</td>\n",
       "      <td>0</td>\n",
       "      <td>0</td>\n",
       "      <td>0</td>\n",
       "      <td>0</td>\n",
       "      <td>0</td>\n",
       "    </tr>\n",
       "    <tr>\n",
       "      <th>3</th>\n",
       "      <td>4</td>\n",
       "      <td>0</td>\n",
       "      <td>0</td>\n",
       "      <td>0</td>\n",
       "      <td>0</td>\n",
       "      <td>0</td>\n",
       "      <td>0</td>\n",
       "      <td>0</td>\n",
       "      <td>0</td>\n",
       "      <td>0</td>\n",
       "      <td>...</td>\n",
       "      <td>0</td>\n",
       "      <td>0</td>\n",
       "      <td>0</td>\n",
       "      <td>0</td>\n",
       "      <td>0</td>\n",
       "      <td>0</td>\n",
       "      <td>0</td>\n",
       "      <td>0</td>\n",
       "      <td>0</td>\n",
       "      <td>0</td>\n",
       "    </tr>\n",
       "    <tr>\n",
       "      <th>4</th>\n",
       "      <td>0</td>\n",
       "      <td>0</td>\n",
       "      <td>0</td>\n",
       "      <td>0</td>\n",
       "      <td>0</td>\n",
       "      <td>0</td>\n",
       "      <td>0</td>\n",
       "      <td>0</td>\n",
       "      <td>0</td>\n",
       "      <td>0</td>\n",
       "      <td>...</td>\n",
       "      <td>0</td>\n",
       "      <td>0</td>\n",
       "      <td>0</td>\n",
       "      <td>0</td>\n",
       "      <td>0</td>\n",
       "      <td>0</td>\n",
       "      <td>0</td>\n",
       "      <td>0</td>\n",
       "      <td>0</td>\n",
       "      <td>0</td>\n",
       "    </tr>\n",
       "  </tbody>\n",
       "</table>\n",
       "<p>5 rows × 785 columns</p>\n",
       "</div>"
      ],
      "text/plain": [
       "   label  pixel0  pixel1  pixel2  pixel3  pixel4  pixel5  pixel6  pixel7  \\\n",
       "0      1       0       0       0       0       0       0       0       0   \n",
       "1      0       0       0       0       0       0       0       0       0   \n",
       "2      1       0       0       0       0       0       0       0       0   \n",
       "3      4       0       0       0       0       0       0       0       0   \n",
       "4      0       0       0       0       0       0       0       0       0   \n",
       "\n",
       "   pixel8  ...  pixel774  pixel775  pixel776  pixel777  pixel778  pixel779  \\\n",
       "0       0  ...         0         0         0         0         0         0   \n",
       "1       0  ...         0         0         0         0         0         0   \n",
       "2       0  ...         0         0         0         0         0         0   \n",
       "3       0  ...         0         0         0         0         0         0   \n",
       "4       0  ...         0         0         0         0         0         0   \n",
       "\n",
       "   pixel780  pixel781  pixel782  pixel783  \n",
       "0         0         0         0         0  \n",
       "1         0         0         0         0  \n",
       "2         0         0         0         0  \n",
       "3         0         0         0         0  \n",
       "4         0         0         0         0  \n",
       "\n",
       "[5 rows x 785 columns]"
      ]
     },
     "execution_count": 16,
     "metadata": {},
     "output_type": "execute_result"
    }
   ],
   "source": [
    "%pylab inline\n",
    "import pandas as pd\n",
    "\n",
    "# loading MNIST training data\n",
    "mnist_train = pd.read_csv('train.csv')\n",
    "mnist_train.head(5)"
   ]
  },
  {
   "cell_type": "markdown",
   "metadata": {},
   "source": [
    "#### Display one of each digit."
   ]
  },
  {
   "cell_type": "code",
   "execution_count": 17,
   "metadata": {},
   "outputs": [
    {
     "data": {
      "image/png": "[encoded data removed]",
      "text/plain": [
       "<Figure size 432x288 with 10 Axes>"
      ]
     },
     "metadata": {
      "needs_background": "light"
     },
     "output_type": "display_data"
    }
   ],
   "source": [
    "from matplotlib import pylab as plot\n",
    "\n",
    "def displayDigitTable():\n",
    "    for digit in range(10):\n",
    "        row = 0\n",
    "        while mnist_train.label[row] != digit:\n",
    "            row += 1 \n",
    "        digitTable = plot.subplot(2, 5, (digit+1))\n",
    "        digitTable.set_title(\"number: %d\" % digit)\n",
    "        digitTable.imshow(mnist_train.iloc[row][1:].values.reshape(28,28), cmap=cm.binary)\n",
    "    plot.tight_layout()\n",
    "\n",
    "displayDigitTable()"
   ]
  },
  {
   "cell_type": "markdown",
   "metadata": {},
   "source": [
    "#### Examining the prior probability of the different digits: \n",
    "The distribution of digits is not even. Ones appear most frequently and fives appear least frequently. "
   ]
  },
  {
   "cell_type": "code",
   "execution_count": 18,
   "metadata": {},
   "outputs": [
    {
     "name": "stderr",
     "output_type": "stream",
     "text": [
      "C:\\Users\\tshan_19f6h3m\\Anaconda3\\lib\\site-packages\\matplotlib\\axes\\_axes.py:6521: MatplotlibDeprecationWarning: \n",
      "The 'normed' kwarg was deprecated in Matplotlib 2.1 and will be removed in 3.1. Use 'density' instead.\n",
      "  alternative=\"'density'\", removal=\"3.1\")\n"
     ]
    },
    {
     "data": {
      "image/png": "[encoded data removed]",
      "text/plain": [
       "<Figure size 432x288 with 1 Axes>"
      ]
     },
     "metadata": {
      "needs_background": "light"
     },
     "output_type": "display_data"
    }
   ],
   "source": [
    "def displayDigitHistogram():\n",
    "    plot.hist(mnist_train.label, bins = range(11), color='red', edgecolor='black', linewidth=1, normed=1)\n",
    "    plot.xlabel(\"Digit\")\n",
    "    plot.ylabel(\"Freq\")\n",
    "    plot.title(\"Digit Histogram - Trainindg Data\")\n",
    "displayDigitHistogram()"
   ]
  },
  {
   "cell_type": "markdown",
   "metadata": {},
   "source": [
    "#### Finding nearest neighbor (L2 distance) for example digits: "
   ]
  },
  {
   "cell_type": "code",
   "execution_count": 9,
   "metadata": {
    "scrolled": true
   },
   "outputs": [
    {
     "data": {
      "image/png": "[encoded data removed]",
      "text/plain": [
       "<Figure size 432x288 with 10 Axes>"
      ]
     },
     "metadata": {
      "needs_background": "light"
     },
     "output_type": "display_data"
    }
   ],
   "source": [
    "def findNearestNeighboor(row):\n",
    "    closestVal = float('inf')\n",
    "    closetRow = 0\n",
    "    for i in range(len(mnist_train)):\n",
    "        if i != row:\n",
    "            euclidean_distance = numpy.linalg.norm(mnist_train.iloc[row]-mnist_train.iloc[i])\n",
    "            if euclidean_distance < closestVal:\n",
    "                closestVal = euclidean_distance\n",
    "                closetRow = i\n",
    "    return closetRow\n",
    "\n",
    "def displayClosestTable():\n",
    "    closestRow = [None]*10\n",
    "    for digit in range(10):\n",
    "        row = 0\n",
    "        while mnist_train.label[row] != digit:\n",
    "            row += 1 \n",
    "        closestRow[digit] = findNearestNeighboor(row)\n",
    "    \n",
    "    for i in range(len(closestRow)):\n",
    "        digitTable = plot.subplot(2, 5, (i+1))\n",
    "        if i != mnist_train.label[closestRow[i]]: \n",
    "            digitTable.set_title(\"**number: %d\" % i)\n",
    "        else: \n",
    "            digitTable.set_title(\"number: %d\" % i)\n",
    "        digitData = array([mnist_train.iloc[closestRow[i]][1:]])\n",
    "        digitTable.imshow(digitData.reshape(28,28), cmap=cm.binary)\n",
    "    plot.tight_layout()\n",
    "\n",
    "displayClosestTable()\n"
   ]
  },
  {
   "cell_type": "markdown",
   "metadata": {},
   "source": [
    "#### Computing the pairwise distances for all genuine matches and all impostor matches, again using the L2 norm, and ploting histograms of the genuine and impostor distances:"
   ]
  },
  {
   "cell_type": "code",
   "execution_count": 24,
   "metadata": {
    "scrolled": false
   },
   "outputs": [
    {
     "name": "stderr",
     "output_type": "stream",
     "text": [
      "C:\\Users\\tshan_19f6h3m\\Anaconda3\\lib\\site-packages\\ipykernel_launcher.py:6: SettingWithCopyWarning: \n",
      "A value is trying to be set on a copy of a slice from a DataFrame\n",
      "\n",
      "See the caveats in the documentation: http://pandas.pydata.org/pandas-docs/stable/indexing.html#indexing-view-versus-copy\n",
      "  \n"
     ]
    },
    {
     "data": {
      "image/png": "[encoded data removed]",
      "text/plain": [
       "<Figure size 432x288 with 1 Axes>"
      ]
     },
     "metadata": {
      "needs_background": "light"
     },
     "output_type": "display_data"
    }
   ],
   "source": [
    "import sklearn.metrics.pairwise as pw\n",
    "from matplotlib import pyplot\n",
    "\n",
    "# prepare zero-one data\n",
    "zero_one = mnist_train[mnist_train.label <= 1]\n",
    "zero_one.sort_values(by=['label'],inplace=True) \n",
    "value_count = zero_one.groupby('label').size()\n",
    "zero_one = zero_one.drop('label', axis = 1)\n",
    "\n",
    "# generate matrix of all pairwise distances\n",
    "distance_matrix = pw.pairwise_distances(zero_one)\n",
    "\n",
    "# prepare TP, FP matrices\n",
    "true_zero = distance_matrix[:value_count[0],:value_count[0]].reshape(value_count[0]**2)\n",
    "true_one = distance_matrix[value_count[0]:,value_count[0]:].reshape(value_count[1]**2)\n",
    "false_zero = distance_matrix[:value_count[0],value_count[0]:].reshape(value_count[0]*value_count[1])\n",
    "false_one = distance_matrix[value_count[0]:,:value_count[0]].reshape(value_count[0]*value_count[1])\n",
    "genuine = append(true_zero,true_one)\n",
    "impostor = append(false_zero,false_one)\n",
    "\n",
    "# plot data\n",
    "bins = numpy.linspace(0, value_count[0], 1000)\n",
    "pyplot.hist(genuine, bins, alpha=0.5, label='Genuine')\n",
    "pyplot.hist(impostor, bins, alpha=0.5, label='Impostor')\n",
    "pyplot.legend(loc='upper right')\n",
    "pyplot.xlabel('Distance')\n",
    "pyplot.ylabel('Counts')\n",
    "pyplot.title('Genuine vs Impostor Distance', fontsize = 15)\n",
    "pyplot.show()"
   ]
  },
  {
   "cell_type": "markdown",
   "metadata": {},
   "source": [
    "#### Generating an ROC curve from the above sets of distances:"
   ]
  },
  {
   "cell_type": "code",
   "execution_count": 22,
   "metadata": {
    "scrolled": true
   },
   "outputs": [
    {
     "data": {
      "image/png": "[encoded data removed]",
      "text/plain": [
       "<Figure size 432x288 with 1 Axes>"
      ]
     },
     "metadata": {
      "needs_background": "light"
     },
     "output_type": "display_data"
    }
   ],
   "source": [
    "from collections import Counter \n",
    "import numpy\n",
    "\n",
    "tpr,fpr = [],[]\n",
    "true_counter, false_counter = Counter(genuine), Counter(impostor)\n",
    "\n",
    "# counting observations that fall above/below threshold \n",
    "for dist_bucket in range(0,math.ceil(max(max(genuine),max(impostor)))+50,50):  \n",
    "    tp,tn,fp,fn = 0,0,0,0\n",
    "    \n",
    "    for dist_val in false_counter:\n",
    "        if dist_val > dist_bucket:\n",
    "            fp += int(false_counter.get(dist_val))\n",
    "        else:\n",
    "            tn += int(false_counter.get(dist_val))\n",
    "            \n",
    "    for dist_val in true_counter:\n",
    "        if dist_val > dist_bucket:\n",
    "            fn += int(true_counter.get(dist_val))\n",
    "        else:\n",
    "            tp += int(true_counter.get(dist_val))\n",
    "\n",
    "    tprate = (tp/(tp+fn))\n",
    "    fprate = (fp/(fp+tn))\n",
    "   \n",
    "    tpr.append(tprate)\n",
    "    fpr.append(fprate)\n",
    "\n",
    "pyplot.plot(fpr, tpr)\n",
    "pyplot.plot([0, 1], [0, 1])\n",
    "pyplot.plot([0, 1], [1, 0])\n",
    "pyplot.plot([.815, .815], [0, 1])\n",
    "pyplot.xlim([0, 1])\n",
    "pyplot.ylim([0, 1])\n",
    "pyplot.title('ROC Curve')\n",
    "pyplot.xlabel('FPR')\n",
    "pyplot.ylabel('TPR')\n",
    "pyplot.show()"
   ]
  },
  {
   "cell_type": "markdown",
   "metadata": {},
   "source": [
    "#### Experimenting with non-library K-NN classifier:"
   ]
  },
  {
   "cell_type": "code",
   "execution_count": 12,
   "metadata": {},
   "outputs": [],
   "source": [
    "import random \n",
    "import numpy\n",
    "\n",
    "def KNN(targetDigit, trainingData, neighborCount):\n",
    "    distance_label = []\n",
    "    for digit in range(len(trainingData)):\n",
    "        distance = numpy.linalg.norm(trainingData.iloc[digit][1:]-targetDigit)\n",
    "        distance_label.append([distance, trainingData.iloc[digit,0]])\n",
    "    distance_label.sort(key=lambda x:x[0])\n",
    "    labelList = [label[1] for label in distance_label][0:neighborCount]\n",
    "    random.shuffle(labelList) # in the event of tie, max function returns the first max it encounters. shuffling the list creates random outcome in the event of tie\n",
    "    return max(set(labelList), key = labelList.count) "
   ]
  },
  {
   "cell_type": "markdown",
   "metadata": {},
   "source": [
    "#### Using the training data for all digits, performed 3 fold cross-validation on K-NN classifier:\n",
    "Yeilds an average accuracy of 96.54%"
   ]
  },
  {
   "cell_type": "code",
   "execution_count": 45,
   "metadata": {},
   "outputs": [],
   "source": [
    "from sklearn.model_selection import KFold\n",
    "from sklearn.neighbors import KNeighborsClassifier\n",
    "\n",
    "def crossValidation(trainingData, splits, knnCount):\n",
    "    label_predict, label_actual = [], []\n",
    "    count, correct = 0,0\n",
    "    cols = trainingData.columns\n",
    "    kf = KFold(n_splits=splits, shuffle=False) \n",
    "    neigh = KNeighborsClassifier(n_neighbors=knnCount)\n",
    "    for train_index, test_index in kf.split(trainingData):\n",
    "        train_fold = trainingData.iloc[train_index,1:].values.tolist()\n",
    "        train_label = trainingData.iloc[train_index,0].values.tolist()\n",
    "        test_fold = trainingData.iloc[test_index].drop('label',axis=1).values.tolist()\n",
    "        test_label = pd.DataFrame(trainingData.iloc[test_index,0])\n",
    "\n",
    "        # running KNN on folds\n",
    "        neigh.fit(train_fold, train_label) \n",
    "        for digit in range(len(test_fold)):\n",
    "            count += 1\n",
    "            prediction = neigh.predict(array(test_fold[digit]).reshape(1, -1))\n",
    "            label_predict.append(prediction)\n",
    "            label_actual.append(test_label.iloc[digit][0])\n",
    "            if prediction == test_label.iloc[digit,0]:\n",
    "                correct += 1\n",
    "    print(\"Average accuracy: \",correct/count)\n",
    "    return [label_predict,label_actual]"
   ]
  },
  {
   "cell_type": "markdown",
   "metadata": {},
   "source": [
    "#### Generating a confusion matrix:"
   ]
  },
  {
   "cell_type": "code",
   "execution_count": 46,
   "metadata": {
    "scrolled": true
   },
   "outputs": [
    {
     "name": "stdout",
     "output_type": "stream",
     "text": [
      "Average accuracy:  0.9654285714285714\n"
     ]
    },
    {
     "data": {
      "image/png": "[encoded data removed]",
      "text/plain": [
       "<Figure size 288x288 with 2 Axes>"
      ]
     },
     "metadata": {
      "needs_background": "light"
     },
     "output_type": "display_data"
    }
   ],
   "source": [
    "from sklearn.metrics import confusion_matrix\n",
    "\n",
    "cross_validation_data = crossValidation(mnist_train, 3, 3)\n",
    "confusion_matrix = confusion_matrix(cross_validation_data[1], cross_validation_data[0])\n",
    "confusion_matrix = confusion_matrix.astype('float') / confusion_matrix.sum(axis=1)[:, np.newaxis]\n",
    "\n",
    "pyplot.matshow(confusion_matrix)\n",
    "pyplot.title('Confusion matrix')\n",
    "pyplot.colorbar()\n",
    "pyplot.ylabel('True label')\n",
    "pyplot.xlabel('Predicted label')\n",
    "pyplot.savefig('confusion_matrix.png')\n",
    "pyplot.show()"
   ]
  },
  {
   "cell_type": "markdown",
   "metadata": {},
   "source": [
    "#### Training classifier with all of the training data, and testing your classifier with test data:"
   ]
  },
  {
   "cell_type": "code",
   "execution_count": 47,
   "metadata": {},
   "outputs": [
    {
     "name": "stderr",
     "output_type": "stream",
     "text": [
      "C:\\Users\\tshan_19f6h3m\\Anaconda3\\lib\\site-packages\\ipykernel_launcher.py:11: DataConversionWarning: A column-vector y was passed when a 1d array was expected. Please change the shape of y to (n_samples, ), for example using ravel().\n",
      "  # This is added back by InteractiveShellApp.init_path()\n"
     ]
    },
    {
     "name": "stdout",
     "output_type": "stream",
     "text": [
      "done\n"
     ]
    }
   ],
   "source": [
    "# loading MNIST training data\n",
    "mnist_test = pd.read_csv('test.csv')\n",
    "\n",
    "# creating and filling dataframe\n",
    "predict_values = pd.DataFrame(columns=['ImageId','Label'])\n",
    "\n",
    "training_data = pd.DataFrame(mnist_train.iloc[:,1:]).values.tolist()\n",
    "training_label = pd.DataFrame(mnist_train.iloc[:,0]).values.tolist()\n",
    "\n",
    "neigh = KNeighborsClassifier(n_neighbors=3)\n",
    "neigh.fit(training_data, training_label) \n",
    "\n",
    "for digit in range(0,len(mnist_test)): \n",
    "    predict_values.loc[digit] = ([digit+1,neigh.predict(array(mnist_test.iloc[digit]).reshape(1, -1))[0]])\n",
    "    \n",
    "#writing to file\n",
    "predict_values.to_csv('results.csv', index = False)\n",
    "print(\"done\")"
   ]
  }
 ],
 "metadata": {
  "kernelspec": {
   "display_name": "Python 3",
   "language": "python",
   "name": "python3"
  },
  "language_info": {
   "codemirror_mode": {
    "name": "ipython",
    "version": 3
   },
   "file_extension": ".py",
   "mimetype": "text/x-python",
   "name": "python",
   "nbconvert_exporter": "python",
   "pygments_lexer": "ipython3",
   "version": "3.7.3"
  }
 },
 "nbformat": 4,
 "nbformat_minor": 2
}
